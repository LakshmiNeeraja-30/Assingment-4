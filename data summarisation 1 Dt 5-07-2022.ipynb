{
 "cells": [
  {
   "cell_type": "code",
   "execution_count": 18,
   "id": "32ad529f",
   "metadata": {},
   "outputs": [
    {
     "ename": "NameError",
     "evalue": "name 'statistics' is not defined",
     "output_type": "error",
     "traceback": [
      "\u001b[1;31m---------------------------------------------------------------------------\u001b[0m",
      "\u001b[1;31mNameError\u001b[0m                                 Traceback (most recent call last)",
      "Input \u001b[1;32mIn [18]\u001b[0m, in \u001b[0;36m<cell line: 5>\u001b[1;34m()\u001b[0m\n\u001b[0;32m      3\u001b[0m p2\u001b[38;5;241m=\u001b[39m\u001b[38;5;241m1\u001b[39m,\u001b[38;5;241m3\u001b[39m,\u001b[38;5;241m20\u001b[39m,\u001b[38;5;241m4\u001b[39m,\u001b[38;5;241m6\u001b[39m\n\u001b[0;32m      4\u001b[0m p3\u001b[38;5;241m=\u001b[39m\u001b[38;5;241m1\u001b[39m,\u001b[38;5;241m3\u001b[39m,\u001b[38;5;241m2\u001b[39m,\u001b[38;5;241m4\u001b[39m,\u001b[38;5;241m60\u001b[39m\n\u001b[1;32m----> 5\u001b[0m \u001b[38;5;28mprint\u001b[39m(\u001b[43mstatistics\u001b[49m\u001b[38;5;241m.\u001b[39mmean(p1))\n\u001b[0;32m      6\u001b[0m \u001b[38;5;28mprint\u001b[39m(statistics\u001b[38;5;241m.\u001b[39mmean(p2))\n\u001b[0;32m      7\u001b[0m \u001b[38;5;28mprint\u001b[39m(statistics\u001b[38;5;241m.\u001b[39mmean(p3))\n",
      "\u001b[1;31mNameError\u001b[0m: name 'statistics' is not defined"
     ]
    }
   ],
   "source": [
    "import numpy as np\n",
    "p1=1,3,2,4,6\n",
    "p2=1,3,20,4,6\n",
    "p3=1,3,2,4,60\n",
    "print(statistics.mean(p1))\n",
    "print(statistics.mean(p2))\n",
    "print(statistics.mean(p3))"
   ]
  },
  {
   "cell_type": "code",
   "execution_count": 18,
   "id": "de4cac7d",
   "metadata": {},
   "outputs": [
    {
     "name": "stdout",
     "output_type": "stream",
     "text": [
      "3\n",
      "4\n",
      "3\n"
     ]
    }
   ],
   "source": [
    "print(statistics.median(p1))\n",
    "print(statistics.median(p2))\n",
    "print(statistics.median(p3))"
   ]
  },
  {
   "cell_type": "code",
   "execution_count": 19,
   "id": "eac6ffa9",
   "metadata": {},
   "outputs": [
    {
     "name": "stdout",
     "output_type": "stream",
     "text": [
      "1\n",
      "1\n",
      "1\n"
     ]
    }
   ],
   "source": [
    "print(statistics.mode(p1))\n",
    "print(statistics.mode(p2))\n",
    "print(statistics.mode(p3))\n"
   ]
  },
  {
   "cell_type": "code",
   "execution_count": 20,
   "id": "418b108f",
   "metadata": {},
   "outputs": [
    {
     "name": "stdout",
     "output_type": "stream",
     "text": [
      "3.7\n",
      "57.699999999999996\n",
      "662.5\n"
     ]
    }
   ],
   "source": [
    "print(statistics.variance(p1))\n",
    "print(statistics.variance(p2))\n",
    "print(statistics.variance(p3))"
   ]
  },
  {
   "cell_type": "code",
   "execution_count": 24,
   "id": "ec001408",
   "metadata": {},
   "outputs": [
    {
     "name": "stdout",
     "output_type": "stream",
     "text": [
      "1.9235384061671346\n",
      "7.596051605933177\n",
      "25.739075352467502\n"
     ]
    }
   ],
   "source": [
    "print(statistics.stdev(p1))\n",
    "print(statistics.stdev(p2))\n",
    "print(statistics.stdev(p3))"
   ]
  },
  {
   "cell_type": "code",
   "execution_count": 6,
   "id": "e7c2df64",
   "metadata": {},
   "outputs": [
    {
     "data": {
      "text/plain": [
       "3.4285714285714284"
      ]
     },
     "execution_count": 6,
     "metadata": {},
     "output_type": "execute_result"
    }
   ],
   "source": [
    "import numpy as np\n",
    "a=np.array([1,2,3,4,5,4,5])\n",
    "a.mean()"
   ]
  },
  {
   "cell_type": "code",
   "execution_count": 19,
   "id": "d4fd7790",
   "metadata": {},
   "outputs": [
    {
     "ename": "AttributeError",
     "evalue": "'tuple' object has no attribute 'describe'",
     "output_type": "error",
     "traceback": [
      "\u001b[1;31m---------------------------------------------------------------------------\u001b[0m",
      "\u001b[1;31mAttributeError\u001b[0m                            Traceback (most recent call last)",
      "Input \u001b[1;32mIn [19]\u001b[0m, in \u001b[0;36m<cell line: 1>\u001b[1;34m()\u001b[0m\n\u001b[1;32m----> 1\u001b[0m \u001b[43mp1\u001b[49m\u001b[38;5;241;43m.\u001b[39;49m\u001b[43mdescribe\u001b[49m()\n",
      "\u001b[1;31mAttributeError\u001b[0m: 'tuple' object has no attribute 'describe'"
     ]
    }
   ],
   "source": [
    "p1.describe()"
   ]
  },
  {
   "cell_type": "code",
   "execution_count": 21,
   "id": "0ef5c1d2",
   "metadata": {},
   "outputs": [
    {
     "name": "stdout",
     "output_type": "stream",
     "text": [
      "[22.6, 37.8, 28.4, 38.0, 46.0, 46.2, 44.0, 32.8, 39.0, 40.4]\n"
     ]
    }
   ],
   "source": [
    "import pandas as pd\n",
    "p1=pd.Series([5,8,12,34,54])\n",
    "p2=pd.Series([34,56,44,43,12])\n",
    "p3=pd.Series([8,9,23,56,46])\n",
    "p4=pd.Series([43,21,32,37,57])\n",
    "p5=pd.Series([21,34,54,45,76])\n",
    "p6=pd.Series([67,54,32,23,55])\n",
    "p7=pd.Series([33,44,55,66,22])\n",
    "p8=pd.Series([43,54,22,14,31])\n",
    "p9=pd.Series([19,39,29,59,49])\n",
    "p10=pd.Series([25,35,45,55,42])\n",
    "a=[p1.mean(),p2.mean(),p3.mean(),p4.mean(),p5.mean(),p6.mean(),p7.mean(),p8.mean(),p9.mean(),p10.mean()]\n",
    "print(a)\n",
    "\n"
   ]
  },
  {
   "cell_type": "code",
   "execution_count": 34,
   "id": "07f3747f",
   "metadata": {},
   "outputs": [
    {
     "data": {
      "image/png": "[encoded data removed]",
      "text/plain": [
       "<Figure size 432x288 with 1 Axes>"
      ]
     },
     "metadata": {
      "needs_background": "light"
     },
     "output_type": "display_data"
    }
   ],
   "source": [
    "import matplotlib.pyplot as plt\n",
    "x=['p1','p2','p3','p4','p5','p6','p7','p8','p9','p10']\n",
    "y=[22.6, 37.8, 28.4, 38.0, 46.0, 46.2, 44.0, 32.8, 39.0, 40.4]\n",
    "plt.bar(x,y,color=\"pink\")\n",
    "plt.title(\"Mean of the population\")\n",
    "plt.xlabel(\"Population\")\n",
    "plt.ylabel(\"Mean\")\n",
    "plt.show()"
   ]
  },
  {
   "cell_type": "code",
   "execution_count": 22,
   "id": "625bf210",
   "metadata": {},
   "outputs": [
    {
     "data": {
      "text/plain": [
       "count     5.000000\n",
       "mean     22.600000\n",
       "std      20.923671\n",
       "min       5.000000\n",
       "25%       8.000000\n",
       "50%      12.000000\n",
       "75%      34.000000\n",
       "max      54.000000\n",
       "dtype: float64"
      ]
     },
     "execution_count": 22,
     "metadata": {},
     "output_type": "execute_result"
    }
   ],
   "source": [
    "p1.describe()"
   ]
  },
  {
   "cell_type": "code",
   "execution_count": 24,
   "id": "5cf9a9ed",
   "metadata": {},
   "outputs": [
    {
     "data": {
      "text/plain": [
       "count     5.000000\n",
       "mean     37.800000\n",
       "std      16.407315\n",
       "min      12.000000\n",
       "25%      34.000000\n",
       "50%      43.000000\n",
       "75%      44.000000\n",
       "max      56.000000\n",
       "dtype: float64"
      ]
     },
     "execution_count": 24,
     "metadata": {},
     "output_type": "execute_result"
    }
   ],
   "source": [
    "p2.describe()"
   ]
  },
  {
   "cell_type": "code",
   "execution_count": 25,
   "id": "7b0d762b",
   "metadata": {},
   "outputs": [
    {
     "data": {
      "text/plain": [
       "count     5.000000\n",
       "mean     28.400000\n",
       "std      21.755459\n",
       "min       8.000000\n",
       "25%       9.000000\n",
       "50%      23.000000\n",
       "75%      46.000000\n",
       "max      56.000000\n",
       "dtype: float64"
      ]
     },
     "execution_count": 25,
     "metadata": {},
     "output_type": "execute_result"
    }
   ],
   "source": [
    "p3.describe()"
   ]
  },
  {
   "cell_type": "code",
   "execution_count": 26,
   "id": "284a5455",
   "metadata": {},
   "outputs": [
    {
     "data": {
      "text/plain": [
       "count     5.000000\n",
       "mean     38.000000\n",
       "std      13.341664\n",
       "min      21.000000\n",
       "25%      32.000000\n",
       "50%      37.000000\n",
       "75%      43.000000\n",
       "max      57.000000\n",
       "dtype: float64"
      ]
     },
     "execution_count": 26,
     "metadata": {},
     "output_type": "execute_result"
    }
   ],
   "source": [
    "p4.describe()\n"
   ]
  },
  {
   "cell_type": "code",
   "execution_count": 27,
   "id": "06aef7a7",
   "metadata": {},
   "outputs": [
    {
     "data": {
      "text/plain": [
       "count     5.000000\n",
       "mean     46.000000\n",
       "std      20.820663\n",
       "min      21.000000\n",
       "25%      34.000000\n",
       "50%      45.000000\n",
       "75%      54.000000\n",
       "max      76.000000\n",
       "dtype: float64"
      ]
     },
     "execution_count": 27,
     "metadata": {},
     "output_type": "execute_result"
    }
   ],
   "source": [
    "p5.describe()"
   ]
  },
  {
   "cell_type": "code",
   "execution_count": 28,
   "id": "aeb4da4b",
   "metadata": {},
   "outputs": [
    {
     "data": {
      "text/plain": [
       "count     5.000000\n",
       "mean     46.200000\n",
       "std      18.102486\n",
       "min      23.000000\n",
       "25%      32.000000\n",
       "50%      54.000000\n",
       "75%      55.000000\n",
       "max      67.000000\n",
       "dtype: float64"
      ]
     },
     "execution_count": 28,
     "metadata": {},
     "output_type": "execute_result"
    }
   ],
   "source": [
    "p6.describe()"
   ]
  },
  {
   "cell_type": "code",
   "execution_count": 29,
   "id": "217e38ea",
   "metadata": {},
   "outputs": [
    {
     "data": {
      "text/plain": [
       "count     5.000000\n",
       "mean     44.000000\n",
       "std      17.392527\n",
       "min      22.000000\n",
       "25%      33.000000\n",
       "50%      44.000000\n",
       "75%      55.000000\n",
       "max      66.000000\n",
       "dtype: float64"
      ]
     },
     "execution_count": 29,
     "metadata": {},
     "output_type": "execute_result"
    }
   ],
   "source": [
    "p7.describe()"
   ]
  },
  {
   "cell_type": "code",
   "execution_count": 30,
   "id": "53c0b3ba",
   "metadata": {},
   "outputs": [
    {
     "data": {
      "text/plain": [
       "count     5.00000\n",
       "mean     32.80000\n",
       "std      16.02186\n",
       "min      14.00000\n",
       "25%      22.00000\n",
       "50%      31.00000\n",
       "75%      43.00000\n",
       "max      54.00000\n",
       "dtype: float64"
      ]
     },
     "execution_count": 30,
     "metadata": {},
     "output_type": "execute_result"
    }
   ],
   "source": [
    "p8.describe()"
   ]
  },
  {
   "cell_type": "code",
   "execution_count": 31,
   "id": "25eec1fe",
   "metadata": {},
   "outputs": [
    {
     "data": {
      "text/plain": [
       "count     5.000000\n",
       "mean     39.000000\n",
       "std      15.811388\n",
       "min      19.000000\n",
       "25%      29.000000\n",
       "50%      39.000000\n",
       "75%      49.000000\n",
       "max      59.000000\n",
       "dtype: float64"
      ]
     },
     "execution_count": 31,
     "metadata": {},
     "output_type": "execute_result"
    }
   ],
   "source": [
    "p9.describe()"
   ]
  },
  {
   "cell_type": "code",
   "execution_count": 32,
   "id": "d8ce284a",
   "metadata": {},
   "outputs": [
    {
     "data": {
      "text/plain": [
       "count     5.00000\n",
       "mean     40.40000\n",
       "std      11.21606\n",
       "min      25.00000\n",
       "25%      35.00000\n",
       "50%      42.00000\n",
       "75%      45.00000\n",
       "max      55.00000\n",
       "dtype: float64"
      ]
     },
     "execution_count": 32,
     "metadata": {},
     "output_type": "execute_result"
    }
   ],
   "source": [
    "p10.describe()"
   ]
  },
  {
   "cell_type": "code",
   "execution_count": 59,
   "id": "5b1647ea",
   "metadata": {},
   "outputs": [
    {
     "data": {
      "image/png": "[encoded data removed]",
      "text/plain": [
       "<Figure size 432x288 with 1 Axes>"
      ]
     },
     "metadata": {
      "needs_background": "light"
     },
     "output_type": "display_data"
    },
    {
     "data": {
      "text/plain": [
       "[(22.576, 24.96], (36.76, 39.12], (27.32, 29.68], (36.76, 39.12], (43.84, 46.2], (43.84, 46.2], (43.84, 46.2], (32.04, 34.4], (36.76, 39.12], (39.12, 41.48]]\n",
       "Categories (10, interval[float64, right]): [(22.576, 24.96] < (24.96, 27.32] < (27.32, 29.68] < (29.68, 32.04] ... (36.76, 39.12] < (39.12, 41.48] < (41.48, 43.84] < (43.84, 46.2]]"
      ]
     },
     "execution_count": 59,
     "metadata": {},
     "output_type": "execute_result"
    }
   ],
   "source": [
    "import pandas as pd\n",
    "y=[22.6, 37.8, 28.4, 38.0, 46.0, 46.2, 44.0, 32.8, 39.0, 40.4]\n",
    "plt.hist(y,bins=10)\n",
    "plt.show()\n",
    "pd.cut(y,bins=10)"
   ]
  },
  {
   "cell_type": "code",
   "execution_count": 37,
   "id": "af6e683b",
   "metadata": {},
   "outputs": [
    {
     "data": {
      "image/png": "[encoded data removed]",
      "text/plain": [
       "<Figure size 432x288 with 1 Axes>"
      ]
     },
     "metadata": {},
     "output_type": "display_data"
    }
   ],
   "source": [
    "y=[22.6, 37.8, 28.4, 38.0, 46.0, 46.2, 44.0, 32.8, 39.0, 40.4]\n",
    "plt.pie(y,labels=['p1','p2','p3','p4','p5','p6','p7','p8','p9','p10'])\n",
    "plt.show()"
   ]
  },
  {
   "cell_type": "code",
   "execution_count": 38,
   "id": "c51fc44e",
   "metadata": {},
   "outputs": [
    {
     "data": {
      "text/plain": [
       "[12.0, 43.0, 23.0, 37.0, 45.0, 54.0, 44.0, 31.0, 39.0, 42.0]"
      ]
     },
     "execution_count": 38,
     "metadata": {},
     "output_type": "execute_result"
    }
   ],
   "source": [
    "median=[p1.median(),p2.median(),p3.median(),p4.median(),p5.median(),p6.median(),p7.median(),p8.median(),p9.median(),p10.median()]\n",
    "median"
   ]
  },
  {
   "cell_type": "code",
   "execution_count": 61,
   "id": "1b344019",
   "metadata": {},
   "outputs": [
    {
     "data": {
      "image/png": "[encoded data removed]",
      "text/plain": [
       "<Figure size 432x288 with 1 Axes>"
      ]
     },
     "metadata": {
      "needs_background": "light"
     },
     "output_type": "display_data"
    }
   ],
   "source": [
    "x=['p1','p2','p3','p4','p5','p6','p7','p8','p9','p10']\n",
    "y=[12.0, 43.0, 23.0, 37.0, 45.0, 54.0, 44.0, 31.0, 39.0, 42.0]\n",
    "plt.xlabel(\"Population\")\n",
    "plt.ylabel(\"Median\")\n",
    "plt.bar(x,y,color=\"blue\")\n",
    "plt.show()"
   ]
  },
  {
   "cell_type": "code",
   "execution_count": 40,
   "id": "ea275d2d",
   "metadata": {},
   "outputs": [
    {
     "data": {
      "text/plain": [
       "[437.79999999999995,\n",
       " 269.20000000000005,\n",
       " 473.3,\n",
       " 178.0,\n",
       " 433.5,\n",
       " 327.70000000000005,\n",
       " 302.5,\n",
       " 256.7,\n",
       " 250.0,\n",
       " 125.8]"
      ]
     },
     "execution_count": 40,
     "metadata": {},
     "output_type": "execute_result"
    }
   ],
   "source": [
    "variance=[p1.var(),p2.var(),p3.var(),p4.var(),p5.var(),p6.var(),p7.var(),p8.var(),p9.var(),p10.var()]\n",
    "variance"
   ]
  },
  {
   "cell_type": "markdown",
   "id": "22a772a0",
   "metadata": {},
   "source": []
  },
  {
   "cell_type": "code",
   "execution_count": 41,
   "id": "6390f170",
   "metadata": {},
   "outputs": [
    {
     "data": {
      "text/plain": [
       "[0     5\n",
       " 1     8\n",
       " 2    12\n",
       " 3    34\n",
       " 4    54\n",
       " dtype: int64,\n",
       " 0    12\n",
       " 1    34\n",
       " 2    43\n",
       " 3    44\n",
       " 4    56\n",
       " dtype: int64,\n",
       " 0     8\n",
       " 1     9\n",
       " 2    23\n",
       " 3    46\n",
       " 4    56\n",
       " dtype: int64,\n",
       " 0    21\n",
       " 1    32\n",
       " 2    37\n",
       " 3    43\n",
       " 4    57\n",
       " dtype: int64,\n",
       " 0    21\n",
       " 1    34\n",
       " 2    45\n",
       " 3    54\n",
       " 4    76\n",
       " dtype: int64,\n",
       " 0    23\n",
       " 1    32\n",
       " 2    54\n",
       " 3    55\n",
       " 4    67\n",
       " dtype: int64,\n",
       " 0    22\n",
       " 1    33\n",
       " 2    44\n",
       " 3    55\n",
       " 4    66\n",
       " dtype: int64,\n",
       " 0    14\n",
       " 1    22\n",
       " 2    31\n",
       " 3    43\n",
       " 4    54\n",
       " dtype: int64,\n",
       " 0    19\n",
       " 1    29\n",
       " 2    39\n",
       " 3    49\n",
       " 4    59\n",
       " dtype: int64,\n",
       " 0    25\n",
       " 1    35\n",
       " 2    42\n",
       " 3    45\n",
       " 4    55\n",
       " dtype: int64]"
      ]
     },
     "execution_count": 41,
     "metadata": {},
     "output_type": "execute_result"
    }
   ],
   "source": [
    "mode=[p1.mode(),p2.mode(),p3.mode(),p4.mode(),p5.mode(),p6.mode(),p7.mode(),p8.mode(),p9.mode(),p10.mode()]\n",
    "mode"
   ]
  },
  {
   "cell_type": "code",
   "execution_count": 43,
   "id": "32820228",
   "metadata": {},
   "outputs": [
    {
     "data": {
      "text/plain": [
       "[20.923670806051216,\n",
       " 16.40731544159495,\n",
       " 21.755459085020476,\n",
       " 13.341664064126334,\n",
       " 20.820662813657012,\n",
       " 18.102486017119308,\n",
       " 17.392527130926087,\n",
       " 16.02186006679624,\n",
       " 15.811388300841896,\n",
       " 11.216059914247962]"
      ]
     },
     "execution_count": 43,
     "metadata": {},
     "output_type": "execute_result"
    }
   ],
   "source": [
    "SD=[p1.std(),p2.std(),p3.std(),p4.std(),p5.std(),p6.std(),p7.std(),p8.std(),p9.std(),p10.std()]\n",
    "SD"
   ]
  },
  {
   "cell_type": "code",
   "execution_count": 55,
   "id": "85997151",
   "metadata": {},
   "outputs": [
    {
     "data": {
      "image/png": "[encoded data removed]",
      "text/plain": [
       "<Figure size 432x288 with 1 Axes>"
      ]
     },
     "metadata": {},
     "output_type": "display_data"
    }
   ],
   "source": [
    "y=[12.0, 43.0, 23.0, 37.0, 45.0, 54.0, 44.0, 31.0, 39.0, 42.0]\n",
    "plt.pie(y,labels=['p1','p2','p3','p4','p5','p6','p7','p8','p9','p10'])\n",
    "plt.legend(title=\"Median\")\n",
    "plt.show()"
   ]
  },
  {
   "cell_type": "code",
   "execution_count": 52,
   "id": "837d7662",
   "metadata": {},
   "outputs": [
    {
     "data": {
      "image/png": "[encoded data removed]",
      "text/plain": [
       "<Figure size 432x288 with 1 Axes>"
      ]
     },
     "metadata": {},
     "output_type": "display_data"
    }
   ],
   "source": [
    "y=[437.79999999999995,269.20000000000005, 473.3,178.0,433.5,327.70000000000005,302.5,256.7,250.0,125.8]\n",
    "plt.pie(y,labels=['p1','p2','p3','p4','p5','p6','p7','p8','p9','p10'])\n",
    "plt.legend(title=\"Variance\")\n",
    "plt.show()\n"
   ]
  },
  {
   "cell_type": "code",
   "execution_count": 54,
   "id": "72dc9f2e",
   "metadata": {},
   "outputs": [
    {
     "data": {
      "image/png": "[encoded data removed]",
      "text/plain": [
       "<Figure size 432x288 with 1 Axes>"
      ]
     },
     "metadata": {},
     "output_type": "display_data"
    }
   ],
   "source": [
    "y=[20.923670806051216,\n",
    " 16.40731544159495,\n",
    " 21.755459085020476,\n",
    " 13.341664064126334,\n",
    " 20.820662813657012,\n",
    " 18.102486017119308,\n",
    " 17.392527130926087,\n",
    " 16.02186006679624,\n",
    " 15.811388300841896,\n",
    " 11.216059914247962]\n",
    "plt.pie(y,labels=['p1','p2','p3','p4','p5','p6','p7','p8','p9','p10'])\n",
    "plt.legend(title=\"sd\")\n",
    "plt.show()"
   ]
  },
  {
   "cell_type": "code",
   "execution_count": 1,
   "id": "3fda71ee",
   "metadata": {},
   "outputs": [
    {
     "data": {
      "text/html": [
       "<div>\n",
       "<style scoped>\n",
       "    .dataframe tbody tr th:only-of-type {\n",
       "        vertical-align: middle;\n",
       "    }\n",
       "\n",
       "    .dataframe tbody tr th {\n",
       "        vertical-align: top;\n",
       "    }\n",
       "\n",
       "    .dataframe thead th {\n",
       "        text-align: right;\n",
       "    }\n",
       "</style>\n",
       "<table border=\"1\" class=\"dataframe\">\n",
       "  <thead>\n",
       "    <tr style=\"text-align: right;\">\n",
       "      <th></th>\n",
       "      <th>S.No</th>\n",
       "      <th>Name</th>\n",
       "      <th>Marks</th>\n",
       "    </tr>\n",
       "  </thead>\n",
       "  <tbody>\n",
       "    <tr>\n",
       "      <th>0</th>\n",
       "      <td>1</td>\n",
       "      <td>A</td>\n",
       "      <td>10</td>\n",
       "    </tr>\n",
       "    <tr>\n",
       "      <th>1</th>\n",
       "      <td>2</td>\n",
       "      <td>B</td>\n",
       "      <td>12</td>\n",
       "    </tr>\n",
       "    <tr>\n",
       "      <th>2</th>\n",
       "      <td>3</td>\n",
       "      <td>C</td>\n",
       "      <td>8</td>\n",
       "    </tr>\n",
       "    <tr>\n",
       "      <th>3</th>\n",
       "      <td>4</td>\n",
       "      <td>D</td>\n",
       "      <td>9</td>\n",
       "    </tr>\n",
       "    <tr>\n",
       "      <th>4</th>\n",
       "      <td>5</td>\n",
       "      <td>E</td>\n",
       "      <td>10</td>\n",
       "    </tr>\n",
       "    <tr>\n",
       "      <th>5</th>\n",
       "      <td>6</td>\n",
       "      <td>F</td>\n",
       "      <td>12</td>\n",
       "    </tr>\n",
       "    <tr>\n",
       "      <th>6</th>\n",
       "      <td>7</td>\n",
       "      <td>G</td>\n",
       "      <td>9</td>\n",
       "    </tr>\n",
       "    <tr>\n",
       "      <th>7</th>\n",
       "      <td>8</td>\n",
       "      <td>H</td>\n",
       "      <td>6</td>\n",
       "    </tr>\n",
       "    <tr>\n",
       "      <th>8</th>\n",
       "      <td>9</td>\n",
       "      <td>I</td>\n",
       "      <td>8</td>\n",
       "    </tr>\n",
       "    <tr>\n",
       "      <th>9</th>\n",
       "      <td>10</td>\n",
       "      <td>J</td>\n",
       "      <td>9</td>\n",
       "    </tr>\n",
       "    <tr>\n",
       "      <th>10</th>\n",
       "      <td>11</td>\n",
       "      <td>K</td>\n",
       "      <td>10</td>\n",
       "    </tr>\n",
       "  </tbody>\n",
       "</table>\n",
       "</div>"
      ],
      "text/plain": [
       "    S.No Name  Marks\n",
       "0      1    A     10\n",
       "1      2    B     12\n",
       "2      3    C      8\n",
       "3      4    D      9\n",
       "4      5    E     10\n",
       "5      6    F     12\n",
       "6      7    G      9\n",
       "7      8    H      6\n",
       "8      9    I      8\n",
       "9     10    J      9\n",
       "10    11    K     10"
      ]
     },
     "execution_count": 1,
     "metadata": {},
     "output_type": "execute_result"
    }
   ],
   "source": [
    "import numpy as np\n",
    "import pandas as pd\n",
    "a=pd.read_csv(\"marks.csv\")\n",
    "a"
   ]
  },
  {
   "cell_type": "code",
   "execution_count": 2,
   "id": "0dc0b911",
   "metadata": {},
   "outputs": [
    {
     "name": "stdout",
     "output_type": "stream",
     "text": [
      "           S.No\n",
      "Marks          \n",
      "6      8.000000\n",
      "8      6.000000\n",
      "9      7.000000\n",
      "10     5.666667\n",
      "12     4.000000\n"
     ]
    }
   ],
   "source": [
    "print(a.groupby([\"Marks\"]).mean())"
   ]
  },
  {
   "cell_type": "code",
   "execution_count": 3,
   "id": "d459a582",
   "metadata": {},
   "outputs": [
    {
     "data": {
      "text/html": [
       "<div>\n",
       "<style scoped>\n",
       "    .dataframe tbody tr th:only-of-type {\n",
       "        vertical-align: middle;\n",
       "    }\n",
       "\n",
       "    .dataframe tbody tr th {\n",
       "        vertical-align: top;\n",
       "    }\n",
       "\n",
       "    .dataframe thead th {\n",
       "        text-align: right;\n",
       "    }\n",
       "</style>\n",
       "<table border=\"1\" class=\"dataframe\">\n",
       "  <thead>\n",
       "    <tr style=\"text-align: right;\">\n",
       "      <th></th>\n",
       "      <th>ID NO</th>\n",
       "      <th>Name</th>\n",
       "      <th>Gender</th>\n",
       "      <th>Dept</th>\n",
       "      <th>Unnamed: 4</th>\n",
       "    </tr>\n",
       "  </thead>\n",
       "  <tbody>\n",
       "    <tr>\n",
       "      <th>0</th>\n",
       "      <td>1</td>\n",
       "      <td>Neeraja</td>\n",
       "      <td>F</td>\n",
       "      <td>CSE</td>\n",
       "      <td>NaN</td>\n",
       "    </tr>\n",
       "    <tr>\n",
       "      <th>1</th>\n",
       "      <td>2</td>\n",
       "      <td>kittu</td>\n",
       "      <td>F</td>\n",
       "      <td>ECE</td>\n",
       "      <td>NaN</td>\n",
       "    </tr>\n",
       "    <tr>\n",
       "      <th>2</th>\n",
       "      <td>3</td>\n",
       "      <td>hasee</td>\n",
       "      <td>M</td>\n",
       "      <td>EEE</td>\n",
       "      <td>NaN</td>\n",
       "    </tr>\n",
       "    <tr>\n",
       "      <th>3</th>\n",
       "      <td>4</td>\n",
       "      <td>hema</td>\n",
       "      <td>F</td>\n",
       "      <td>CSE</td>\n",
       "      <td>NaN</td>\n",
       "    </tr>\n",
       "    <tr>\n",
       "      <th>4</th>\n",
       "      <td>5</td>\n",
       "      <td>keerthi</td>\n",
       "      <td>F</td>\n",
       "      <td>ECE</td>\n",
       "      <td>NaN</td>\n",
       "    </tr>\n",
       "    <tr>\n",
       "      <th>5</th>\n",
       "      <td>6</td>\n",
       "      <td>dolly</td>\n",
       "      <td>M</td>\n",
       "      <td>EEE</td>\n",
       "      <td>NaN</td>\n",
       "    </tr>\n",
       "    <tr>\n",
       "      <th>6</th>\n",
       "      <td>7</td>\n",
       "      <td>siri</td>\n",
       "      <td>F</td>\n",
       "      <td>MECH</td>\n",
       "      <td>NaN</td>\n",
       "    </tr>\n",
       "    <tr>\n",
       "      <th>7</th>\n",
       "      <td>8</td>\n",
       "      <td>vara</td>\n",
       "      <td>F</td>\n",
       "      <td>MECH</td>\n",
       "      <td>NaN</td>\n",
       "    </tr>\n",
       "    <tr>\n",
       "      <th>8</th>\n",
       "      <td>9</td>\n",
       "      <td>chinna</td>\n",
       "      <td>M</td>\n",
       "      <td>ECE</td>\n",
       "      <td>NaN</td>\n",
       "    </tr>\n",
       "    <tr>\n",
       "      <th>9</th>\n",
       "      <td>10</td>\n",
       "      <td>anitha</td>\n",
       "      <td>F</td>\n",
       "      <td>ECE</td>\n",
       "      <td>NaN</td>\n",
       "    </tr>\n",
       "  </tbody>\n",
       "</table>\n",
       "</div>"
      ],
      "text/plain": [
       "   ID NO     Name Gender  Dept  Unnamed: 4\n",
       "0      1  Neeraja      F   CSE         NaN\n",
       "1      2    kittu      F   ECE         NaN\n",
       "2      3    hasee      M   EEE         NaN\n",
       "3      4     hema      F   CSE         NaN\n",
       "4      5  keerthi      F   ECE         NaN\n",
       "5      6    dolly      M   EEE         NaN\n",
       "6      7     siri      F  MECH         NaN\n",
       "7      8     vara      F  MECH         NaN\n",
       "8      9   chinna      M   ECE         NaN\n",
       "9     10   anitha      F   ECE         NaN"
      ]
     },
     "execution_count": 3,
     "metadata": {},
     "output_type": "execute_result"
    }
   ],
   "source": [
    "a=pd.read_csv(\"dept.csv\")\n",
    "a"
   ]
  },
  {
   "cell_type": "code",
   "execution_count": 5,
   "id": "75ac4021",
   "metadata": {},
   "outputs": [
    {
     "data": {
      "text/html": [
       "<div>\n",
       "<style scoped>\n",
       "    .dataframe tbody tr th:only-of-type {\n",
       "        vertical-align: middle;\n",
       "    }\n",
       "\n",
       "    .dataframe tbody tr th {\n",
       "        vertical-align: top;\n",
       "    }\n",
       "\n",
       "    .dataframe thead th {\n",
       "        text-align: right;\n",
       "    }\n",
       "</style>\n",
       "<table border=\"1\" class=\"dataframe\">\n",
       "  <thead>\n",
       "    <tr style=\"text-align: right;\">\n",
       "      <th></th>\n",
       "      <th>ID NO</th>\n",
       "      <th>Name</th>\n",
       "      <th>Gender</th>\n",
       "      <th>Dept</th>\n",
       "      <th>Unnamed: 4</th>\n",
       "    </tr>\n",
       "  </thead>\n",
       "  <tbody>\n",
       "    <tr>\n",
       "      <th>0</th>\n",
       "      <td>1</td>\n",
       "      <td>Neeraja</td>\n",
       "      <td>F</td>\n",
       "      <td>CSE</td>\n",
       "      <td>NaN</td>\n",
       "    </tr>\n",
       "    <tr>\n",
       "      <th>1</th>\n",
       "      <td>2</td>\n",
       "      <td>kittu</td>\n",
       "      <td>F</td>\n",
       "      <td>ECE</td>\n",
       "      <td>NaN</td>\n",
       "    </tr>\n",
       "    <tr>\n",
       "      <th>2</th>\n",
       "      <td>3</td>\n",
       "      <td>hasee</td>\n",
       "      <td>M</td>\n",
       "      <td>EEE</td>\n",
       "      <td>NaN</td>\n",
       "    </tr>\n",
       "    <tr>\n",
       "      <th>3</th>\n",
       "      <td>4</td>\n",
       "      <td>hema</td>\n",
       "      <td>F</td>\n",
       "      <td>CSE</td>\n",
       "      <td>NaN</td>\n",
       "    </tr>\n",
       "    <tr>\n",
       "      <th>4</th>\n",
       "      <td>5</td>\n",
       "      <td>keerthi</td>\n",
       "      <td>F</td>\n",
       "      <td>ECE</td>\n",
       "      <td>NaN</td>\n",
       "    </tr>\n",
       "    <tr>\n",
       "      <th>5</th>\n",
       "      <td>6</td>\n",
       "      <td>dolly</td>\n",
       "      <td>M</td>\n",
       "      <td>EEE</td>\n",
       "      <td>NaN</td>\n",
       "    </tr>\n",
       "    <tr>\n",
       "      <th>6</th>\n",
       "      <td>7</td>\n",
       "      <td>siri</td>\n",
       "      <td>F</td>\n",
       "      <td>MECH</td>\n",
       "      <td>NaN</td>\n",
       "    </tr>\n",
       "    <tr>\n",
       "      <th>7</th>\n",
       "      <td>8</td>\n",
       "      <td>vara</td>\n",
       "      <td>F</td>\n",
       "      <td>MECH</td>\n",
       "      <td>NaN</td>\n",
       "    </tr>\n",
       "    <tr>\n",
       "      <th>8</th>\n",
       "      <td>9</td>\n",
       "      <td>chinna</td>\n",
       "      <td>M</td>\n",
       "      <td>ECE</td>\n",
       "      <td>NaN</td>\n",
       "    </tr>\n",
       "    <tr>\n",
       "      <th>9</th>\n",
       "      <td>10</td>\n",
       "      <td>anitha</td>\n",
       "      <td>F</td>\n",
       "      <td>ECE</td>\n",
       "      <td>NaN</td>\n",
       "    </tr>\n",
       "  </tbody>\n",
       "</table>\n",
       "</div>"
      ],
      "text/plain": [
       "   ID NO     Name Gender  Dept  Unnamed: 4\n",
       "0      1  Neeraja      F   CSE         NaN\n",
       "1      2    kittu      F   ECE         NaN\n",
       "2      3    hasee      M   EEE         NaN\n",
       "3      4     hema      F   CSE         NaN\n",
       "4      5  keerthi      F   ECE         NaN\n",
       "5      6    dolly      M   EEE         NaN\n",
       "6      7     siri      F  MECH         NaN\n",
       "7      8     vara      F  MECH         NaN\n",
       "8      9   chinna      M   ECE         NaN\n",
       "9     10   anitha      F   ECE         NaN"
      ]
     },
     "execution_count": 5,
     "metadata": {},
     "output_type": "execute_result"
    }
   ],
   "source": [
    "a.dropna(axis=\"columns\")\n",
    "a"
   ]
  },
  {
   "cell_type": "code",
   "execution_count": 6,
   "id": "5f7f5cb0",
   "metadata": {},
   "outputs": [
    {
     "name": "stdout",
     "output_type": "stream",
     "text": [
      "<pandas.core.groupby.generic.DataFrameGroupBy object at 0x000001A146C83070>\n"
     ]
    }
   ],
   "source": [
    "print(a.groupby([\"Gender\"]))\n"
   ]
  },
  {
   "cell_type": "code",
   "execution_count": 10,
   "id": "1b56b247",
   "metadata": {},
   "outputs": [
    {
     "data": {
      "text/plain": [
       "<pandas.core.groupby.generic.DataFrameGroupBy object at 0x000001A146D704F0>"
      ]
     },
     "execution_count": 10,
     "metadata": {},
     "output_type": "execute_result"
    }
   ],
   "source": [
    "b=a.groupby([\"Gender\"])\n",
    "b"
   ]
  },
  {
   "cell_type": "code",
   "execution_count": 11,
   "id": "75f1da80",
   "metadata": {},
   "outputs": [
    {
     "name": "stdout",
     "output_type": "stream",
     "text": [
      "{'F': [0, 1, 3, 4, 6, 7, 9], 'M': [2, 5, 8]}\n"
     ]
    }
   ],
   "source": [
    "print(b.groups)"
   ]
  },
  {
   "cell_type": "code",
   "execution_count": 27,
   "id": "2672cad4",
   "metadata": {},
   "outputs": [
    {
     "name": "stdout",
     "output_type": "stream",
     "text": [
      "{('F', 'CSE'): [0, 3], ('F', 'ECE'): [1, 4, 9], ('F', 'MECH'): [6, 7], ('M', 'ECE'): [8], ('M', 'EEE'): [2, 5]}\n"
     ]
    }
   ],
   "source": [
    "b=a.groupby([\"Gender\",\"Dept\"])\n",
    "print(b.groups)"
   ]
  },
  {
   "cell_type": "code",
   "execution_count": 14,
   "id": "d7052892",
   "metadata": {},
   "outputs": [
    {
     "name": "stdout",
     "output_type": "stream",
     "text": [
      "      ID NO  Unnamed: 4\n",
      "Dept                   \n",
      "CSE     2.5         NaN\n",
      "ECE     6.5         NaN\n",
      "EEE     4.5         NaN\n",
      "MECH    7.5         NaN\n"
     ]
    }
   ],
   "source": [
    "print(a.groupby([\"Dept\"]).mean())"
   ]
  },
  {
   "cell_type": "code",
   "execution_count": 15,
   "id": "fcbc2203",
   "metadata": {},
   "outputs": [
    {
     "name": "stdout",
     "output_type": "stream",
     "text": [
      "      ID NO   Name Gender  Unnamed: 4\n",
      "Dept                                 \n",
      "CSE       4   hema      F         NaN\n",
      "ECE      10  kittu      M         NaN\n",
      "EEE       6  hasee      M         NaN\n",
      "MECH      8   vara      F         NaN\n"
     ]
    }
   ],
   "source": [
    "print(a.groupby([\"Dept\"]).max())"
   ]
  },
  {
   "cell_type": "code",
   "execution_count": 16,
   "id": "69d0660b",
   "metadata": {},
   "outputs": [
    {
     "name": "stdout",
     "output_type": "stream",
     "text": [
      "        ID NO   Name  Dept  Unnamed: 4\n",
      "Gender                                \n",
      "F          10   vara  MECH         NaN\n",
      "M           9  hasee   EEE         NaN\n"
     ]
    }
   ],
   "source": [
    "print(a.groupby([\"Gender\"]).max())"
   ]
  },
  {
   "cell_type": "code",
   "execution_count": 18,
   "id": "91d9565c",
   "metadata": {},
   "outputs": [
    {
     "data": {
      "text/plain": [
       "F    7\n",
       "M    3\n",
       "Name: Gender, dtype: int64"
      ]
     },
     "execution_count": 18,
     "metadata": {},
     "output_type": "execute_result"
    }
   ],
   "source": [
    "a[\"Gender\"].value_counts()"
   ]
  },
  {
   "cell_type": "code",
   "execution_count": 19,
   "id": "93341893",
   "metadata": {},
   "outputs": [
    {
     "data": {
      "text/plain": [
       "ECE     4\n",
       "CSE     2\n",
       "EEE     2\n",
       "MECH    2\n",
       "Name: Dept, dtype: int64"
      ]
     },
     "execution_count": 19,
     "metadata": {},
     "output_type": "execute_result"
    }
   ],
   "source": [
    "a[\"Dept\"].value_counts()"
   ]
  },
  {
   "cell_type": "code",
   "execution_count": 20,
   "id": "75ebbbf2",
   "metadata": {},
   "outputs": [
    {
     "name": "stdout",
     "output_type": "stream",
     "text": [
      "   ID NO    Name Gender Dept  Unnamed: 4\n",
      "2      3   hasee      M  EEE         NaN\n",
      "5      6   dolly      M  EEE         NaN\n",
      "8      9  chinna      M  ECE         NaN\n"
     ]
    }
   ],
   "source": [
    "b=a.groupby([\"Gender\"])\n",
    "print(b.get_group(\"M\"))"
   ]
  },
  {
   "cell_type": "code",
   "execution_count": 21,
   "id": "7087e2a5",
   "metadata": {},
   "outputs": [
    {
     "name": "stdout",
     "output_type": "stream",
     "text": [
      "   ID NO  Name Gender  Dept  Unnamed: 4\n",
      "6      7  siri      F  MECH         NaN\n",
      "7      8  vara      F  MECH         NaN\n"
     ]
    }
   ],
   "source": [
    "b=a.groupby([\"Dept\"])\n",
    "print(b.get_group(\"MECH\"))"
   ]
  },
  {
   "cell_type": "code",
   "execution_count": 23,
   "id": "071d14c0",
   "metadata": {},
   "outputs": [
    {
     "name": "stdout",
     "output_type": "stream",
     "text": [
      "   ID NO     Name Gender Dept  Unnamed: 4\n",
      "0      1  Neeraja      F  CSE         NaN\n"
     ]
    }
   ],
   "source": [
    "b=a.groupby([\"Name\"])\n",
    "print(b.get_group(\"Neeraja\"))"
   ]
  },
  {
   "cell_type": "code",
   "execution_count": 24,
   "id": "a214a771",
   "metadata": {},
   "outputs": [
    {
     "name": "stdout",
     "output_type": "stream",
     "text": [
      "   ID NO     Name Gender Dept  Unnamed: 4\n",
      "1      2    kittu      F  ECE         NaN\n",
      "4      5  keerthi      F  ECE         NaN\n",
      "8      9   chinna      M  ECE         NaN\n",
      "9     10   anitha      F  ECE         NaN\n"
     ]
    }
   ],
   "source": [
    "b=a.groupby([\"Dept\"])\n",
    "print(b.get_group(\"ECE\"))"
   ]
  },
  {
   "cell_type": "code",
   "execution_count": 26,
   "id": "786381fa",
   "metadata": {},
   "outputs": [
    {
     "data": {
      "text/plain": [
       "ECE     4\n",
       "CSE     2\n",
       "EEE     2\n",
       "MECH    2\n",
       "Name: Dept, dtype: int64"
      ]
     },
     "execution_count": 26,
     "metadata": {},
     "output_type": "execute_result"
    }
   ],
   "source": [
    "a[\"Dept\"].value_counts()"
   ]
  },
  {
   "cell_type": "code",
   "execution_count": null,
   "id": "9bcb66e6",
   "metadata": {},
   "outputs": [],
   "source": []
  }
 ],
 "metadata": {
  "kernelspec": {
   "display_name": "Python 3 (ipykernel)",
   "language": "python",
   "name": "python3"
  },
  "language_info": {
   "codemirror_mode": {
    "name": "ipython",
    "version": 3
   },
   "file_extension": ".py",
   "mimetype": "text/x-python",
   "name": "python",
   "nbconvert_exporter": "python",
   "pygments_lexer": "ipython3",
   "version": "3.9.12"
  }
 },
 "nbformat": 4,
 "nbformat_minor": 5
}
