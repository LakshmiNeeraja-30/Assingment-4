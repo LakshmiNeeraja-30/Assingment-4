{
 "cells": [
  {
   "cell_type": "code",
   "execution_count": 1,
   "id": "b2ef4608",
   "metadata": {},
   "outputs": [
    {
     "data": {
      "text/html": [
       "<div>\n",
       "<style scoped>\n",
       "    .dataframe tbody tr th:only-of-type {\n",
       "        vertical-align: middle;\n",
       "    }\n",
       "\n",
       "    .dataframe tbody tr th {\n",
       "        vertical-align: top;\n",
       "    }\n",
       "\n",
       "    .dataframe thead th {\n",
       "        text-align: right;\n",
       "    }\n",
       "</style>\n",
       "<table border=\"1\" class=\"dataframe\">\n",
       "  <thead>\n",
       "    <tr style=\"text-align: right;\">\n",
       "      <th></th>\n",
       "      <th>ID no</th>\n",
       "      <th>Name</th>\n",
       "      <th>Class</th>\n",
       "      <th>Gender</th>\n",
       "      <th>Dept</th>\n",
       "      <th>Salary</th>\n",
       "    </tr>\n",
       "  </thead>\n",
       "  <tbody>\n",
       "    <tr>\n",
       "      <th>0</th>\n",
       "      <td>1</td>\n",
       "      <td>Neeraja</td>\n",
       "      <td>2E</td>\n",
       "      <td>Female</td>\n",
       "      <td>CSE</td>\n",
       "      <td>100000</td>\n",
       "    </tr>\n",
       "    <tr>\n",
       "      <th>1</th>\n",
       "      <td>2</td>\n",
       "      <td>Kittu</td>\n",
       "      <td>2A</td>\n",
       "      <td>Female</td>\n",
       "      <td>ECE</td>\n",
       "      <td>60000</td>\n",
       "    </tr>\n",
       "    <tr>\n",
       "      <th>2</th>\n",
       "      <td>3</td>\n",
       "      <td>Sai</td>\n",
       "      <td>2E</td>\n",
       "      <td>Male</td>\n",
       "      <td>CSE</td>\n",
       "      <td>30000</td>\n",
       "    </tr>\n",
       "    <tr>\n",
       "      <th>3</th>\n",
       "      <td>4</td>\n",
       "      <td>Haseena</td>\n",
       "      <td>3E</td>\n",
       "      <td>Female</td>\n",
       "      <td>EEE</td>\n",
       "      <td>100000</td>\n",
       "    </tr>\n",
       "    <tr>\n",
       "      <th>4</th>\n",
       "      <td>5</td>\n",
       "      <td>Mani</td>\n",
       "      <td>4E</td>\n",
       "      <td>Male</td>\n",
       "      <td>ECE</td>\n",
       "      <td>40000</td>\n",
       "    </tr>\n",
       "    <tr>\n",
       "      <th>5</th>\n",
       "      <td>6</td>\n",
       "      <td>Hema</td>\n",
       "      <td>5E</td>\n",
       "      <td>Female</td>\n",
       "      <td>ME</td>\n",
       "      <td>50000</td>\n",
       "    </tr>\n",
       "    <tr>\n",
       "      <th>6</th>\n",
       "      <td>7</td>\n",
       "      <td>Appu</td>\n",
       "      <td>6E</td>\n",
       "      <td>Male</td>\n",
       "      <td>EEE</td>\n",
       "      <td>30000</td>\n",
       "    </tr>\n",
       "    <tr>\n",
       "      <th>7</th>\n",
       "      <td>8</td>\n",
       "      <td>Keerthi</td>\n",
       "      <td>7E</td>\n",
       "      <td>Female</td>\n",
       "      <td>ECE</td>\n",
       "      <td>44000</td>\n",
       "    </tr>\n",
       "    <tr>\n",
       "      <th>8</th>\n",
       "      <td>9</td>\n",
       "      <td>Dora</td>\n",
       "      <td>8E</td>\n",
       "      <td>Male</td>\n",
       "      <td>ME</td>\n",
       "      <td>45000</td>\n",
       "    </tr>\n",
       "    <tr>\n",
       "      <th>9</th>\n",
       "      <td>10</td>\n",
       "      <td>Harsha</td>\n",
       "      <td>9E</td>\n",
       "      <td>Male</td>\n",
       "      <td>CSE</td>\n",
       "      <td>30005</td>\n",
       "    </tr>\n",
       "  </tbody>\n",
       "</table>\n",
       "</div>"
      ],
      "text/plain": [
       "    ID no     Name Class  Gender Dept  Salary\n",
       "0       1  Neeraja    2E  Female  CSE  100000\n",
       "1       2    Kittu    2A  Female  ECE   60000\n",
       "2       3      Sai    2E    Male  CSE   30000\n",
       "3       4  Haseena    3E  Female  EEE  100000\n",
       "4       5     Mani    4E    Male  ECE   40000\n",
       "5       6     Hema    5E  Female   ME   50000\n",
       "6       7     Appu    6E    Male  EEE   30000\n",
       "7       8  Keerthi    7E  Female  ECE   44000\n",
       "8       9     Dora    8E    Male   ME   45000\n",
       "9      10   Harsha    9E    Male  CSE   30005"
      ]
     },
     "execution_count": 1,
     "metadata": {},
     "output_type": "execute_result"
    }
   ],
   "source": [
    "import pandas as pd\n",
    "a=pd.read_csv(\"details.csv\")\n",
    "a"
   ]
  },
  {
   "cell_type": "code",
   "execution_count": 3,
   "id": "6b4bb392",
   "metadata": {},
   "outputs": [
    {
     "name": "stdout",
     "output_type": "stream",
     "text": [
      "<pandas.core.groupby.generic.DataFrameGroupBy object at 0x000001FA3E06F040>\n"
     ]
    }
   ],
   "source": [
    "print(a.groupby([\"Gender\"]))"
   ]
  },
  {
   "cell_type": "code",
   "execution_count": 8,
   "id": "8a35260b",
   "metadata": {},
   "outputs": [
    {
     "name": "stdout",
     "output_type": "stream",
     "text": [
      "{'Female': [0, 1, 3, 5, 7], 'Male': [2, 4, 6, 8, 9]}\n"
     ]
    }
   ],
   "source": [
    "b=a.groupby([\"Gender\"])\n",
    "print(b.groups)"
   ]
  },
  {
   "cell_type": "code",
   "execution_count": 10,
   "id": "00a670e1",
   "metadata": {},
   "outputs": [
    {
     "data": {
      "text/plain": [
       "{('CSE', 30000): [2], ('CSE', 30005): [9], ('CSE', 100000): [0], ('ECE', 40000): [4], ('ECE', 44000): [7], ('ECE', 60000): [1], ('EEE', 30000): [6], ('EEE', 100000): [3], ('ME', 45000): [8], ('ME', 50000): [5]}"
      ]
     },
     "execution_count": 10,
     "metadata": {},
     "output_type": "execute_result"
    }
   ],
   "source": [
    "c=(a.groupby([\"Dept\",\"Salary\"]))\n",
    "c.groups"
   ]
  },
  {
   "cell_type": "code",
   "execution_count": 33,
   "id": "4df54f69",
   "metadata": {},
   "outputs": [
    {
     "data": {
      "text/plain": [
       "{('Appu', '6E'): [6], ('Dora', '8E'): [8], ('Harsha', '9E'): [9], ('Haseena', '3E'): [3], ('Hema', '5E'): [5], ('Keerthi', '7E'): [7], ('Kittu', '2A'): [1], ('Mani', '4E'): [4], ('Neeraja', '2E'): [0], ('Sai', '2E'): [2]}"
      ]
     },
     "execution_count": 33,
     "metadata": {},
     "output_type": "execute_result"
    }
   ],
   "source": [
    "c=a.groupby([\"Name\",\"Class\"])\n",
    "c.groups"
   ]
  },
  {
   "cell_type": "code",
   "execution_count": 16,
   "id": "1c606a6a",
   "metadata": {},
   "outputs": [
    {
     "name": "stdout",
     "output_type": "stream",
     "text": [
      "         ID no     Name Class  Gender Dept\n",
      "Salary                                    \n",
      "30000        7      Sai    6E    Male  EEE\n",
      "30005       10   Harsha    9E    Male  CSE\n",
      "40000        5     Mani    4E    Male  ECE\n",
      "44000        8  Keerthi    7E  Female  ECE\n",
      "45000        9     Dora    8E    Male   ME\n",
      "50000        6     Hema    5E  Female   ME\n",
      "60000        2    Kittu    2A  Female  ECE\n",
      "100000       4  Neeraja    3E  Female  EEE\n"
     ]
    }
   ],
   "source": [
    "print(a.groupby([\"Salary\"]).max())"
   ]
  },
  {
   "cell_type": "code",
   "execution_count": 17,
   "id": "ee5aad51",
   "metadata": {},
   "outputs": [
    {
     "name": "stdout",
     "output_type": "stream",
     "text": [
      "         ID no\n",
      "Salary        \n",
      "30000      5.0\n",
      "30005     10.0\n",
      "40000      5.0\n",
      "44000      8.0\n",
      "45000      9.0\n",
      "50000      6.0\n",
      "60000      2.0\n",
      "100000     2.5\n"
     ]
    }
   ],
   "source": [
    "print(a.groupby([\"Salary\"]).mean())"
   ]
  },
  {
   "cell_type": "code",
   "execution_count": 18,
   "id": "88134ed3",
   "metadata": {},
   "outputs": [
    {
     "name": "stdout",
     "output_type": "stream",
     "text": [
      "         ID no     Name Class Dept  Salary\n",
      "Gender                                    \n",
      "Female       8  Neeraja    7E   ME  100000\n",
      "Male        10      Sai    9E   ME   45000\n"
     ]
    }
   ],
   "source": [
    "print(a.groupby([\"Gender\"]).max())"
   ]
  },
  {
   "cell_type": "code",
   "execution_count": 19,
   "id": "cb07ada6",
   "metadata": {},
   "outputs": [
    {
     "name": "stdout",
     "output_type": "stream",
     "text": [
      "{'CSE': [0, 2, 9], 'ECE': [1, 4, 7], 'EEE': [3, 6], 'ME': [5, 8]}\n"
     ]
    }
   ],
   "source": [
    "print(a.groupby([\"Dept\"]).groups)"
   ]
  },
  {
   "cell_type": "code",
   "execution_count": 27,
   "id": "6ef831ce",
   "metadata": {},
   "outputs": [
    {
     "name": "stdout",
     "output_type": "stream",
     "text": [
      "    ID no     Name Class  Gender Dept  Salary\n",
      "0       1  Neeraja    2E  Female  CSE  100000\n",
      "1       2    Kittu    2A  Female  ECE   60000\n",
      "3       4  Haseena    3E  Female  EEE  100000\n",
      "5       6     Hema    5E  Female   ME   50000\n",
      "7       8  Keerthi    7E  Female  ECE   44000\n"
     ]
    }
   ],
   "source": [
    "b=a.groupby([\"Gender\"])\n",
    "print(b.get_group(\"Female\"))"
   ]
  },
  {
   "cell_type": "code",
   "execution_count": 21,
   "id": "a8e74e86",
   "metadata": {},
   "outputs": [
    {
     "data": {
      "text/plain": [
       "Female    5\n",
       "Male      5\n",
       "Name: Gender, dtype: int64"
      ]
     },
     "execution_count": 21,
     "metadata": {},
     "output_type": "execute_result"
    }
   ],
   "source": [
    "a[\"Gender\"].value_counts()"
   ]
  },
  {
   "cell_type": "code",
   "execution_count": 22,
   "id": "47010334",
   "metadata": {},
   "outputs": [
    {
     "data": {
      "text/plain": [
       "2E    2\n",
       "2A    1\n",
       "3E    1\n",
       "4E    1\n",
       "5E    1\n",
       "6E    1\n",
       "7E    1\n",
       "8E    1\n",
       "9E    1\n",
       "Name: Class, dtype: int64"
      ]
     },
     "execution_count": 22,
     "metadata": {},
     "output_type": "execute_result"
    }
   ],
   "source": [
    "a[\"Class\"].value_counts()"
   ]
  },
  {
   "cell_type": "code",
   "execution_count": 23,
   "id": "2d3ce04f",
   "metadata": {},
   "outputs": [
    {
     "data": {
      "text/plain": [
       "CSE    3\n",
       "ECE    3\n",
       "EEE    2\n",
       "ME     2\n",
       "Name: Dept, dtype: int64"
      ]
     },
     "execution_count": 23,
     "metadata": {},
     "output_type": "execute_result"
    }
   ],
   "source": [
    "a[\"Dept\"].value_counts()"
   ]
  },
  {
   "cell_type": "code",
   "execution_count": 25,
   "id": "e40ecac4",
   "metadata": {},
   "outputs": [
    {
     "data": {
      "text/plain": [
       "100000    2\n",
       "30000     2\n",
       "60000     1\n",
       "40000     1\n",
       "50000     1\n",
       "44000     1\n",
       "45000     1\n",
       "30005     1\n",
       "Name: Salary, dtype: int64"
      ]
     },
     "execution_count": 25,
     "metadata": {},
     "output_type": "execute_result"
    }
   ],
   "source": [
    "a[\"Salary\"].value_counts()"
   ]
  },
  {
   "cell_type": "code",
   "execution_count": 28,
   "id": "ba4b645e",
   "metadata": {},
   "outputs": [
    {
     "name": "stdout",
     "output_type": "stream",
     "text": [
      "    ID no     Name Class  Gender Dept  Salary\n",
      "0       1  Neeraja    2E  Female  CSE  100000\n",
      "3       4  Haseena    3E  Female  EEE  100000\n"
     ]
    }
   ],
   "source": [
    "c=a.groupby([\"Salary\"])\n",
    "print(c.get_group(100000))"
   ]
  },
  {
   "cell_type": "code",
   "execution_count": 29,
   "id": "471f8fa1",
   "metadata": {},
   "outputs": [],
   "source": [
    "d=a.groupby([\"Dept\"])"
   ]
  },
  {
   "cell_type": "code",
   "execution_count": 30,
   "id": "d4115de9",
   "metadata": {},
   "outputs": [
    {
     "name": "stdout",
     "output_type": "stream",
     "text": [
      "    ID no     Name Class  Gender Dept  Salary\n",
      "0       1  Neeraja    2E  Female  CSE  100000\n",
      "2       3      Sai    2E    Male  CSE   30000\n",
      "9      10   Harsha    9E    Male  CSE   30005\n"
     ]
    }
   ],
   "source": [
    "print(d.get_group(\"CSE\"))"
   ]
  },
  {
   "cell_type": "code",
   "execution_count": null,
   "id": "f0094277",
   "metadata": {},
   "outputs": [],
   "source": []
  }
 ],
 "metadata": {
  "kernelspec": {
   "display_name": "Python 3 (ipykernel)",
   "language": "python",
   "name": "python3"
  },
  "language_info": {
   "codemirror_mode": {
    "name": "ipython",
    "version": 3
   },
   "file_extension": ".py",
   "mimetype": "text/x-python",
   "name": "python",
   "nbconvert_exporter": "python",
   "pygments_lexer": "ipython3",
   "version": "3.9.12"
  }
 },
 "nbformat": 4,
 "nbformat_minor": 5
}
